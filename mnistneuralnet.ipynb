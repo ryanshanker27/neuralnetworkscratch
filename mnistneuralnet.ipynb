{
 "cells": [
  {
   "cell_type": "code",
   "execution_count": 211,
   "id": "c4468038",
   "metadata": {},
   "outputs": [],
   "source": [
    "import numpy as np\n",
    "import pandas as pd\n",
    "import matplotlib.pyplot as plt\n",
    "import scipy\n",
    "import math"
   ]
  },
  {
   "cell_type": "code",
   "execution_count": 212,
   "id": "2042875c",
   "metadata": {},
   "outputs": [],
   "source": [
    "import tensorflow as tf\n",
    "from tensorflow import keras\n",
    "from keras.datasets import mnist"
   ]
  },
  {
   "cell_type": "code",
   "execution_count": 213,
   "id": "15988841",
   "metadata": {},
   "outputs": [],
   "source": [
    "(train_X, train_y), (test_X, test_y) = mnist.load_data()"
   ]
  },
  {
   "cell_type": "code",
   "execution_count": 214,
   "id": "99d72966",
   "metadata": {},
   "outputs": [],
   "source": [
    "trainx = train_X.reshape(60000,784)\n",
    "testx = test_X.reshape(10000,784)"
   ]
  },
  {
   "cell_type": "code",
   "execution_count": 215,
   "id": "8a9ddbb5",
   "metadata": {},
   "outputs": [],
   "source": [
    "xtrain = trainx[10000:].T\n",
    "ytrain = train_y[10000:]\n",
    "xtrain = xtrain/255"
   ]
  },
  {
   "cell_type": "code",
   "execution_count": 216,
   "id": "73498a49",
   "metadata": {},
   "outputs": [],
   "source": [
    "xval = trainx[0:10000].T\n",
    "yval = train_y[0:10000]\n",
    "xval = xval/255"
   ]
  },
  {
   "cell_type": "code",
   "execution_count": 217,
   "id": "f6155c5d",
   "metadata": {},
   "outputs": [],
   "source": [
    "xtest = testx.T\n",
    "xtest = xtest/255"
   ]
  },
  {
   "cell_type": "code",
   "execution_count": 218,
   "id": "a5f223e0",
   "metadata": {},
   "outputs": [
    {
     "data": {
      "text/plain": [
       "(60000,)"
      ]
     },
     "execution_count": 218,
     "metadata": {},
     "output_type": "execute_result"
    }
   ],
   "source": [
    "train_y.shape"
   ]
  },
  {
   "cell_type": "code",
   "execution_count": 219,
   "id": "9b4f0f21",
   "metadata": {},
   "outputs": [
    {
     "data": {
      "text/plain": [
       "(784, 50000)"
      ]
     },
     "execution_count": 219,
     "metadata": {},
     "output_type": "execute_result"
    }
   ],
   "source": [
    "xtrain.shape"
   ]
  },
  {
   "cell_type": "code",
   "execution_count": 220,
   "id": "f4c7e8d8",
   "metadata": {},
   "outputs": [
    {
     "data": {
      "image/png": "[encoded data removed]",
      "text/plain": [
       "<Figure size 640x480 with 1 Axes>"
      ]
     },
     "metadata": {},
     "output_type": "display_data"
    },
    {
     "data": {
      "image/png": "[encoded data removed]",
      "text/plain": [
       "<Figure size 640x480 with 1 Axes>"
      ]
     },
     "metadata": {},
     "output_type": "display_data"
    },
    {
     "data": {
      "image/png": "[encoded data removed]",
      "text/plain": [
       "<Figure size 640x480 with 1 Axes>"
      ]
     },
     "metadata": {},
     "output_type": "display_data"
    },
    {
     "data": {
      "image/png": "[encoded data removed]",
      "text/plain": [
       "<Figure size 640x480 with 1 Axes>"
      ]
     },
     "metadata": {},
     "output_type": "display_data"
    },
    {
     "data": {
      "image/png": "[encoded data removed]",
      "text/plain": [
       "<Figure size 640x480 with 1 Axes>"
      ]
     },
     "metadata": {},
     "output_type": "display_data"
    }
   ],
   "source": [
    "from matplotlib import pyplot\n",
    "for i in range(5):  \n",
    "    pyplot.subplot(330 + 1 + i)\n",
    "    pyplot.imshow(train_X[i], cmap=pyplot.get_cmap('gray'))\n",
    "    pyplot.show()"
   ]
  },
  {
   "cell_type": "markdown",
   "id": "1622f6ff",
   "metadata": {},
   "source": [
    "## 3 Layer"
   ]
  },
  {
   "cell_type": "code",
   "execution_count": 31,
   "id": "49ef805c",
   "metadata": {},
   "outputs": [],
   "source": [
    "def init_weights():\n",
    "    w1 = np.random.rand(20, 784) - 0.5\n",
    "    b1 = np.random.rand(20, 1) - 0.5\n",
    "    w2 = np.random.rand(10, 20) - 0.5\n",
    "    b2 = np.random.rand(10, 1) - 0.5\n",
    "    w3 = np.random.rand(10, 10) - 0.5\n",
    "    b3 = np.random.rand(10, 1) - 0.5\n",
    "    return w1, b1, w2, b2, w3, b3"
   ]
  },
  {
   "cell_type": "code",
   "execution_count": 32,
   "id": "8108ba8d",
   "metadata": {},
   "outputs": [],
   "source": [
    "def forward_propagation(w1, b1, w2, b2, w3, b3, x):\n",
    "    z1 = w1.dot(x) + b1\n",
    "    a1 = np.maximum(0, z1) # ReLU\n",
    "    z2 = w2.dot(a1) + b2\n",
    "    a2 = np.maximum(0, z2)\n",
    "    z3 = w3.dot(a2) + b3\n",
    "    a3 = np.exp(z3) / sum(np.exp(z3)) # softmax\n",
    "    return z1, a1, z2, a2, z3, a3"
   ]
  },
  {
   "cell_type": "code",
   "execution_count": 33,
   "id": "b124e610",
   "metadata": {},
   "outputs": [],
   "source": [
    "def one_hot_encoding(y): \n",
    "    one_hot_y = np.zeros((y.size, y.max() + 1))\n",
    "    one_hot_y[np.arange(y.size), y] = 1\n",
    "    return one_hot_y.T"
   ]
  },
  {
   "cell_type": "code",
   "execution_count": 34,
   "id": "ba0c56c0",
   "metadata": {},
   "outputs": [],
   "source": [
    "def deriv_relu(z):\n",
    "    return z > 0"
   ]
  },
  {
   "cell_type": "code",
   "execution_count": 35,
   "id": "f137a2ea",
   "metadata": {},
   "outputs": [],
   "source": [
    "def back_propagation(z1, a1, z2, a2, z3, a3, w1, w2, w3, x, y):\n",
    "    one_hot_y = one_hot_encoding(y)\n",
    "    d_z3 = a3 - one_hot_y\n",
    "    d_w3 = d_z3.dot(a2.T) * (1 / train.shape[0])\n",
    "    d_b3 = np.sum(d_z3) * (1 / train.shape[0])\n",
    "    \n",
    "    d_z2 = w3.T.dot(d_z3) * deriv_relu(z2)\n",
    "    d_w2 = d_z2.dot(a1.T) * (1 / train.shape[0])\n",
    "    d_b2 = np.sum(d_z2) * (1 / train.shape[0])\n",
    "    \n",
    "    d_z1 = w2.T.dot(d_z2) * deriv_relu(z1)\n",
    "    d_w1 = d_z1.dot(x.T) * (1 / train.shape[0])\n",
    "    d_b1 = np.sum(d_z1) * (1 / train.shape[0])\n",
    "    return d_w1, d_b1, d_w2, d_b2, d_w3, d_b3"
   ]
  },
  {
   "cell_type": "code",
   "execution_count": 36,
   "id": "f221564e",
   "metadata": {},
   "outputs": [],
   "source": [
    "def update_weights(w1, b1, w2, b2, w3, b3, d_w1, d_b1, d_w2, d_b2, d_w3, d_b3, lr):\n",
    "    w1 = w1 - lr * d_w1\n",
    "    w2 = w2 - lr * d_w2\n",
    "    w3 = w3 - lr * d_w3\n",
    "    b1 = b1 - lr * d_b1\n",
    "    b2 = b2 - lr * d_b2\n",
    "    b3 = b3 - lr * d_b3\n",
    "    return w1, w2, w3, b1, b2, b3"
   ]
  },
  {
   "cell_type": "code",
   "execution_count": 37,
   "id": "b36d4f3d",
   "metadata": {},
   "outputs": [],
   "source": [
    "def predict(a):\n",
    "    return np.argmax(a, 0)\n",
    "\n",
    "def score(pred, y):\n",
    "    return np.sum(pred == y)/y.size"
   ]
  },
  {
   "cell_type": "code",
   "execution_count": 113,
   "id": "5f0a0657",
   "metadata": {},
   "outputs": [],
   "source": [
    "def gradient_descent(x, y, epochs, lr):\n",
    "    w1, b1, w2, b2, w3, b3 = init_weights()\n",
    "    for i in range(epochs):\n",
    "        z1, a1, z2, a2, z3, a3 = forward_propagation(w1, b1, w2, b2, w3, b3, x)\n",
    "        d_w1, d_b1, d_w2, d_b2, d_w3, d_b3 = back_propagation(z1, a1, z2, a2, \n",
    "                                                              z3, a3, w1, w2, w3, x, y)\n",
    "        w1, w2, w3, b1, b2, b3 = update_weights(w1, b1, w2, b2, w3, b3, \n",
    "                                        d_w1, d_b1, d_w2, d_b2, d_w3, d_b3, lr)\n",
    "        if i % 100 == 0:\n",
    "            print(i, score(predict(a3), y))\n",
    "    return w1, w2, w3, b1, b2, b3"
   ]
  },
  {
   "cell_type": "code",
   "execution_count": 246,
   "id": "92bc6f66",
   "metadata": {},
   "outputs": [
    {
     "name": "stdout",
     "output_type": "stream",
     "text": [
      "0 0.09648\n",
      "100 0.78632\n",
      "200 0.86782\n",
      "300 0.88988\n",
      "400 0.89396\n",
      "500 0.91064\n",
      "600 0.9053\n",
      "700 0.9226\n"
     ]
    }
   ],
   "source": [
    "w1, w2, w3, b1, b2, b3 = gradient_descent(xtrain, ytrain, 701, 0.1)"
   ]
  },
  {
   "cell_type": "code",
   "execution_count": 222,
   "id": "267de687",
   "metadata": {},
   "outputs": [],
   "source": [
    "def predict_test(w1, w2, w3, b1, b2, b3, x):\n",
    "    z1, a1, z2, a2, z3, a3 = forward_propagation(w1, b1, w2, b2, w3, b3, x)\n",
    "    pred = predict(a3)\n",
    "    return pred"
   ]
  },
  {
   "cell_type": "code",
   "execution_count": 225,
   "id": "177859ed",
   "metadata": {},
   "outputs": [
    {
     "name": "stdout",
     "output_type": "stream",
     "text": [
      "Accuracy: 89.92 %\n"
     ]
    }
   ],
   "source": [
    "print('Accuracy:', 100*score(predict_test(w1, w2, w3, b1, b2, b3, xval), yval), '%')"
   ]
  },
  {
   "cell_type": "code",
   "execution_count": 245,
   "id": "de34ac7f",
   "metadata": {},
   "outputs": [
    {
     "data": {
      "image/png": "[encoded data removed]",
      "text/plain": [
       "<Figure size 640x480 with 1 Axes>"
      ]
     },
     "metadata": {},
     "output_type": "display_data"
    },
    {
     "name": "stdout",
     "output_type": "stream",
     "text": [
      "Prediction: 5\n",
      "Actual: 3\n"
     ]
    },
    {
     "data": {
      "image/png": "[encoded data removed]",
      "text/plain": [
       "<Figure size 640x480 with 1 Axes>"
      ]
     },
     "metadata": {},
     "output_type": "display_data"
    },
    {
     "name": "stdout",
     "output_type": "stream",
     "text": [
      "Prediction: 5\n",
      "Actual: 8\n"
     ]
    },
    {
     "data": {
      "image/png": "[encoded data removed]",
      "text/plain": [
       "<Figure size 640x480 with 1 Axes>"
      ]
     },
     "metadata": {},
     "output_type": "display_data"
    },
    {
     "name": "stdout",
     "output_type": "stream",
     "text": [
      "Prediction: 7\n",
      "Actual: 6\n"
     ]
    },
    {
     "data": {
      "image/png": "[encoded data removed]",
      "text/plain": [
       "<Figure size 640x480 with 1 Axes>"
      ]
     },
     "metadata": {},
     "output_type": "display_data"
    },
    {
     "name": "stdout",
     "output_type": "stream",
     "text": [
      "Prediction: 8\n",
      "Actual: 9\n"
     ]
    },
    {
     "data": {
      "image/png": "[encoded data removed]",
      "text/plain": [
       "<Figure size 640x480 with 1 Axes>"
      ]
     },
     "metadata": {},
     "output_type": "display_data"
    },
    {
     "name": "stdout",
     "output_type": "stream",
     "text": [
      "Prediction: 4\n",
      "Actual: 0\n"
     ]
    }
   ],
   "source": [
    "for i in range(30,35):  \n",
    "    pyplot.subplot(330 + 1 + i)\n",
    "    pyplot.imshow(train_X[i], cmap=pyplot.get_cmap('gray'))\n",
    "    pyplot.show()\n",
    "    print('Prediction:', predict_test(w1, w2, w3, b1, b2, b3, xval)[i])\n",
    "    print('Actual:', yval[i])"
   ]
  },
  {
   "cell_type": "markdown",
   "id": "b42dafae",
   "metadata": {},
   "source": [
    "## 2 Layer"
   ]
  },
  {
   "cell_type": "code",
   "execution_count": 108,
   "id": "7b579893",
   "metadata": {},
   "outputs": [],
   "source": [
    "def init_weights2():\n",
    "    w1 = np.random.rand(20, 784) - 0.5\n",
    "    b1 = np.random.rand(20, 1) - 0.5\n",
    "    w2 = np.random.rand(10, 20) - 0.5\n",
    "    b2 = np.random.rand(10, 1) - 0.5\n",
    "    return w1, b1, w2, b2"
   ]
  },
  {
   "cell_type": "code",
   "execution_count": 101,
   "id": "bd6a647e",
   "metadata": {},
   "outputs": [],
   "source": [
    "def forward_propagation2(w1, b1, w2, b2, x):\n",
    "    z1 = w1.dot(x) + b1\n",
    "    a1 = np.maximum(0, z1) # ReLU\n",
    "    z2 = w2.dot(a1) + b2\n",
    "    a2 = np.exp(z2) / sum(np.exp(z2))\n",
    "    return z1, a1, z2, a2"
   ]
  },
  {
   "cell_type": "code",
   "execution_count": 102,
   "id": "77435462",
   "metadata": {},
   "outputs": [],
   "source": [
    "def back_propagation2(z1, a1, z2, a2, w1, w2, x, y):\n",
    "    one_hot_y = one_hot_encoding(y)\n",
    "    \n",
    "    d_z2 = a2 - one_hot_y\n",
    "    d_w2 = d_z2.dot(a1.T) * (1 / train.shape[0])\n",
    "    d_b2 = np.sum(d_z2) * (1 / train.shape[0])\n",
    "    \n",
    "    d_z1 = w2.T.dot(d_z2) * deriv_relu(z1)\n",
    "    d_w1 = d_z1.dot(x.T) * (1 / train.shape[0])\n",
    "    d_b1 = np.sum(d_z1) * (1 / train.shape[0])\n",
    "    return d_w1, d_b1, d_w2, d_b2"
   ]
  },
  {
   "cell_type": "code",
   "execution_count": 103,
   "id": "5ea614ad",
   "metadata": {},
   "outputs": [],
   "source": [
    "def update_weights2(w1, b1, w2, b2, d_w1, d_b1, d_w2, d_b2, lr):\n",
    "    w1 = w1 - lr * d_w1\n",
    "    w2 = w2 - lr * d_w2\n",
    "    b1 = b1 - lr * d_b1\n",
    "    b2 = b2 - lr * d_b2\n",
    "    return w1, w2, b1, b2"
   ]
  },
  {
   "cell_type": "code",
   "execution_count": 112,
   "id": "f45440a8",
   "metadata": {},
   "outputs": [],
   "source": [
    "def gradient_descent2(x, y, epochs, lr):\n",
    "    w1, b1, w2, b2 = init_weights2()\n",
    "    for i in range(epochs):\n",
    "        z1, a1, z2, a2 = forward_propagation2(w1, b1, w2, b2, x)\n",
    "        d_w1, d_b1, d_w2, d_b2 = back_propagation2(z1, a1, z2, a2, w1, w2, x, y)\n",
    "        w1, w2, b1, b2 = update_weights2(w1, b1, w2, b2, d_w1, d_b1, d_w2, d_b2, lr)\n",
    "        if i % 100 == 0:\n",
    "            print(i, score(predict(a2), y))\n",
    "    return w1, w2, b1, b2"
   ]
  },
  {
   "cell_type": "code",
   "execution_count": 226,
   "id": "6d3b0798",
   "metadata": {},
   "outputs": [
    {
     "name": "stdout",
     "output_type": "stream",
     "text": [
      "0 0.11476\n",
      "100 0.84242\n",
      "200 0.87922\n",
      "300 0.89784\n",
      "400 0.90784\n",
      "500 0.91456\n",
      "600 0.91936\n",
      "700 0.92326\n"
     ]
    }
   ],
   "source": [
    "w1, w2, b1, b2 = gradient_descent2(xtrain, ytrain, 701, 0.1)"
   ]
  },
  {
   "cell_type": "code",
   "execution_count": 227,
   "id": "0a11b931",
   "metadata": {},
   "outputs": [
    {
     "data": {
      "text/plain": [
       "(784, 50000)"
      ]
     },
     "execution_count": 227,
     "metadata": {},
     "output_type": "execute_result"
    }
   ],
   "source": [
    "xtrain.shape"
   ]
  },
  {
   "cell_type": "code",
   "execution_count": 228,
   "id": "b2c1d139",
   "metadata": {},
   "outputs": [],
   "source": [
    "def predict_test2(w1, w2, b1, b2, x):\n",
    "    z1, a1, z2, a2 = forward_propagation2(w1, b1, w2, b2, x)\n",
    "    pred = predict(a2)\n",
    "    return pred"
   ]
  },
  {
   "cell_type": "code",
   "execution_count": 230,
   "id": "b6bcbfaf",
   "metadata": {},
   "outputs": [
    {
     "name": "stdout",
     "output_type": "stream",
     "text": [
      "Accuracy: 91.93 %\n"
     ]
    }
   ],
   "source": [
    "print('Accuracy:', score(predict_test2(w1, w2, b1, b2, xval), yval)*100, '%')"
   ]
  },
  {
   "cell_type": "code",
   "execution_count": 234,
   "id": "433b0c3c",
   "metadata": {},
   "outputs": [
    {
     "data": {
      "text/plain": [
       "5"
      ]
     },
     "execution_count": 234,
     "metadata": {},
     "output_type": "execute_result"
    }
   ],
   "source": [
    "predict_test2(w1, w2, b1, b2, xval)[0]"
   ]
  },
  {
   "cell_type": "code",
   "execution_count": 243,
   "id": "c3722bb0",
   "metadata": {},
   "outputs": [
    {
     "data": {
      "image/png": "[encoded data removed]",
      "text/plain": [
       "<Figure size 640x480 with 1 Axes>"
      ]
     },
     "metadata": {},
     "output_type": "display_data"
    },
    {
     "name": "stdout",
     "output_type": "stream",
     "text": [
      "Prediction: 1\n",
      "Actual: 3\n"
     ]
    },
    {
     "data": {
      "image/png": "[encoded data removed]",
      "text/plain": [
       "<Figure size 640x480 with 1 Axes>"
      ]
     },
     "metadata": {},
     "output_type": "display_data"
    },
    {
     "name": "stdout",
     "output_type": "stream",
     "text": [
      "Prediction: 8\n",
      "Actual: 8\n"
     ]
    },
    {
     "data": {
      "image/png": "[encoded data removed]",
      "text/plain": [
       "<Figure size 640x480 with 1 Axes>"
      ]
     },
     "metadata": {},
     "output_type": "display_data"
    },
    {
     "name": "stdout",
     "output_type": "stream",
     "text": [
      "Prediction: 6\n",
      "Actual: 6\n"
     ]
    },
    {
     "data": {
      "image/png": "[encoded data removed]",
      "text/plain": [
       "<Figure size 640x480 with 1 Axes>"
      ]
     },
     "metadata": {},
     "output_type": "display_data"
    },
    {
     "name": "stdout",
     "output_type": "stream",
     "text": [
      "Prediction: 7\n",
      "Actual: 9\n"
     ]
    },
    {
     "data": {
      "image/png": "[encoded data removed]",
      "text/plain": [
       "<Figure size 640x480 with 1 Axes>"
      ]
     },
     "metadata": {},
     "output_type": "display_data"
    },
    {
     "name": "stdout",
     "output_type": "stream",
     "text": [
      "Prediction: 0\n",
      "Actual: 0\n"
     ]
    }
   ],
   "source": [
    "for i in range(30,35):  \n",
    "    pyplot.subplot(330 + 1 + i)\n",
    "    pyplot.imshow(train_X[i], cmap=pyplot.get_cmap('gray'))\n",
    "    pyplot.show()\n",
    "    print('Prediction:', predict_test2(w1, w2, b1, b2, xval)[i])\n",
    "    print('Actual:', yval[i])"
   ]
  },
  {
   "cell_type": "code",
   "execution_count": null,
   "id": "83f8b0ab",
   "metadata": {},
   "outputs": [],
   "source": []
  }
 ],
 "metadata": {
  "kernelspec": {
   "display_name": "Python 3 (ipykernel)",
   "language": "python",
   "name": "python3"
  },
  "language_info": {
   "codemirror_mode": {
    "name": "ipython",
    "version": 3
   },
   "file_extension": ".py",
   "mimetype": "text/x-python",
   "name": "python",
   "nbconvert_exporter": "python",
   "pygments_lexer": "ipython3",
   "version": "3.11.4"
  }
 },
 "nbformat": 4,
 "nbformat_minor": 5
}
